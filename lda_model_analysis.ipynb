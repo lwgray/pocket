{
 "cells": [
  {
   "cell_type": "code",
   "execution_count": 8,
   "metadata": {
    "collapsed": false,
    "scrolled": false
   },
   "outputs": [
    {
     "name": "stdout",
     "output_type": "stream",
     "text": [
      "[u'0.193*python + 0.050*web + 0.041*like + 0.039*data + 0.034*using + 0.033*use + 0.027*post + 0.026*simple + 0.025*library + 0.025*code', u'0.133*data + 0.050*one + 0.040*neural_networks + 0.036*first + 0.034*time + 0.034*based + 0.029*programming + 0.028*world + 0.026*would + 0.025*using', u'0.115*data_science + 0.063*artificial_intelligence + 0.045*first + 0.042*deep_learning + 0.038*algorithms + 0.034*get + 0.034*many + 0.032*year + 0.032*help + 0.031*every', u'0.142*machine_learning + 0.076*new + 0.050*things + 0.047*python + 0.047*learn + 0.044*part + 0.041*ve + 0.031*way + 0.029*tutorial + 0.027*year']\n"
     ]
    }
   ],
   "source": [
    "# %load POCKET_TOPIC_MODELING.py\n",
    "import gensim\n",
    "import pyLDAvis\n",
    "import pyLDAvis.gensim\n",
    "import numpy as np\n",
    "from wordcloud import WordCloud\n",
    "import matplotlib.pyplot as plt\n",
    "\n",
    "dictionary = gensim.corpora.Dictionary.load('larry.dict')\n",
    "corpus = gensim.corpora.MmCorpus('larry.mm')\n",
    "lda = gensim.models.ldamodel.LdaModel.load('larry.lda')\n",
    "\n",
    "print lda.show_topics()"
   ]
  },
  {
   "cell_type": "code",
   "execution_count": 4,
   "metadata": {
    "collapsed": false
   },
   "outputs": [
    {
     "ename": "NameError",
     "evalue": "name 'topics' is not defined",
     "output_type": "error",
     "traceback": [
      "\u001b[1;31m---------------------------------------------------------------------------\u001b[0m",
      "\u001b[1;31mNameError\u001b[0m                                 Traceback (most recent call last)",
      "\u001b[1;32m<ipython-input-4-f7f2e53b243e>\u001b[0m in \u001b[0;36m<module>\u001b[1;34m()\u001b[0m\n\u001b[1;32m----> 1\u001b[1;33m \u001b[0mpyLDAvis\u001b[0m\u001b[1;33m.\u001b[0m\u001b[0mdisplay\u001b[0m\u001b[1;33m(\u001b[0m\u001b[0mtopics\u001b[0m\u001b[1;33m)\u001b[0m\u001b[1;33m\u001b[0m\u001b[0m\n\u001b[0m",
      "\u001b[1;31mNameError\u001b[0m: name 'topics' is not defined"
     ]
    }
   ],
   "source": [
    "topics = pyLDAvis.gensim.prepare(lda, corpus, dictionary)\n",
    "pyLDAvis.display(topics)"
   ]
  },
  {
   "cell_type": "code",
   "execution_count": 3,
   "metadata": {
    "collapsed": false
   },
   "outputs": [
    {
     "name": "stdout",
     "output_type": "stream",
     "text": [
      "Topic: 0\n",
      "Topic: 1\n",
      "Topic: 2\n",
      "Topic: 3\n"
     ]
    },
    {
     "name": "stderr",
     "output_type": "stream",
     "text": [
      "/home/lwgray/anaconda3/envs/topics/lib/python2.7/site-packages/PIL/ImageDraw.py:99: UserWarning: setfont() is deprecated. Please set the attribute directly instead.\n",
      "  \"Please set the attribute directly instead.\")\n"
     ]
    }
   ],
   "source": [
    "wc = WordCloud()\n",
    "topics = lda.show_topics(num_words=50,formatted=False)\n",
    "for i, top in enumerate(topics):\n",
    "    print 'Topic:', i\n",
    "    wc.generate_from_frequencies([(t[1],t[0]) for t in top])\n",
    "    img = wc.to_image()\n",
    "    img.save('{0}.png'.format(i))"
   ]
  }
 ],
 "metadata": {
  "kernelspec": {
   "display_name": "Python 2",
   "language": "python",
   "name": "python2"
  },
  "language_info": {
   "codemirror_mode": {
    "name": "ipython",
    "version": 2
   },
   "file_extension": ".py",
   "mimetype": "text/x-python",
   "name": "python",
   "nbconvert_exporter": "python",
   "pygments_lexer": "ipython2",
   "version": "2.7.11"
  }
 },
 "nbformat": 4,
 "nbformat_minor": 0
}
