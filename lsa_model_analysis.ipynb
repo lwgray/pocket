{
 "cells": [
  {
   "cell_type": "code",
   "execution_count": 1,
   "metadata": {
    "collapsed": false,
    "scrolled": false
   },
   "outputs": [
    {
     "data": {
      "text/plain": [
       "[u'0.638*\"learning\" + 0.494*\"machine\" + 0.321*\"data\" + 0.285*\"python\" + 0.149*\"deep\" + 0.148*\"science\" + 0.132*\"vs\" + 0.103*\"intelligence\" + 0.081*\"monkeylearn\" + 0.080*\"com\"',\n",
       " u'-0.679*\"python\" + -0.444*\"data\" + 0.352*\"learning\" + 0.267*\"machine\" + -0.160*\"science\" + 0.089*\"deep\" + 0.080*\"vs\" + 0.075*\"intelligence\" + -0.075*\"2015\" + -0.058*\"visualization\"',\n",
       " u'-0.653*\"data\" + 0.598*\"python\" + -0.286*\"science\" + 0.085*\"learning\" + 0.067*\"machine\" + -0.062*\"monkeylearn\" + -0.061*\"com\" + -0.057*\"big\" + -0.054*\"using\" + -0.052*\"projects\"',\n",
       " u'-0.366*\"intelligence\" + -0.360*\"vs\" + 0.344*\"monkeylearn\" + 0.336*\"com\" + -0.265*\"artificial\" + -0.208*\"2015\" + -0.206*\"medium\" + -0.194*\"neural\" + -0.185*\"networks\" + 0.159*\"text\"',\n",
       " u'-0.472*\"intelligence\" + -0.356*\"artificial\" + -0.355*\"monkeylearn\" + -0.346*\"com\" + 0.229*\"science\" + -0.226*\"vs\" + 0.194*\"learning\" + -0.178*\"using\" + -0.168*\"get\" + -0.165*\"text\"',\n",
       " u'0.423*\"medium\" + 0.275*\"neural\" + -0.265*\"intelligence\" + 0.261*\"networks\" + 0.260*\"2015\" + 0.247*\"monkeylearn\" + 0.242*\"com\" + 0.217*\"learned\" + 0.208*\"code\" + -0.199*\"artificial\"',\n",
       " u'0.622*\"analysis\" + 0.552*\"sentiment\" + 0.186*\"twitter\" + -0.159*\"science\" + -0.116*\"monkeylearn\" + -0.114*\"com\" + 0.097*\"based\" + 0.095*\"way\" + 0.092*\"notes\" + 0.092*\"create\"',\n",
       " u'0.440*\"deep\" + -0.346*\"machine\" + -0.261*\"building\" + -0.220*\"10\" + -0.198*\"part\" + 0.198*\"new\" + 0.167*\"learning\" + 0.167*\"learn\" + 0.138*\"science\" + 0.127*\"doubly\"',\n",
       " u'-0.401*\"new\" + -0.310*\"learn\" + -0.261*\"way\" + 0.241*\"deep\" + -0.240*\"science\" + 0.207*\"neural\" + 0.188*\"networks\" + -0.167*\"stuff\" + 0.149*\"data\" + -0.137*\"intelligence\"']"
      ]
     },
     "execution_count": 1,
     "metadata": {},
     "output_type": "execute_result"
    }
   ],
   "source": [
    "# %load POCKET_TOPIC_MODELING.py\n",
    "import gensim\n",
    "import pyLDAvis\n",
    "import pyLDAvis.gensim\n",
    "from clean_data import load\n",
    "import numpy as np\n",
    "from wordcloud import WordCloud\n",
    "import matplotlib.pyplot as plt\n",
    "\n",
    "dictionary = gensim.corpora.Dictionary.load('larry.dict')\n",
    "corpus = gensim.corpora.MmCorpus('larry.mm')\n",
    "lsa = gensim.models.lsimodel.LsiModel.load('larry.lsa')\n",
    "\n",
    "lsa.show_topics(9)"
   ]
  },
  {
   "cell_type": "code",
   "execution_count": 3,
   "metadata": {
    "collapsed": false
   },
   "outputs": [
    {
     "name": "stdout",
     "output_type": "stream",
     "text": [
      "Topic: 0\n",
      "Topic: 1\n",
      "Topic: 2\n",
      "Topic: 3\n",
      "Topic: 4\n",
      "Topic: 5\n",
      "Topic: 6\n",
      "Topic: 7\n",
      "Topic: 8\n"
     ]
    },
    {
     "name": "stderr",
     "output_type": "stream",
     "text": [
      "/home/lwgray/anaconda3/envs/topics/lib/python2.7/site-packages/PIL/ImageDraw.py:99: UserWarning: setfont() is deprecated. Please set the attribute directly instead.\n",
      "  \"Please set the attribute directly instead.\")\n"
     ]
    }
   ],
   "source": [
    "wc = WordCloud()\n",
    "topics = lsa.show_topics(num_words=50,formatted=False)\n",
    "for i, top in enumerate(topics):\n",
    "    print 'Topic:', i\n",
    "    wc.generate_from_frequencies([(t[1],t[0]) for t in top])\n",
    "    img = wc.to_image()\n",
    "    img.save('{0}.png'.format(i))"
   ]
  }
 ],
 "metadata": {
  "kernelspec": {
   "display_name": "Python 2",
   "language": "python",
   "name": "python2"
  },
  "language_info": {
   "codemirror_mode": {
    "name": "ipython",
    "version": 2
   },
   "file_extension": ".py",
   "mimetype": "text/x-python",
   "name": "python",
   "nbconvert_exporter": "python",
   "pygments_lexer": "ipython2",
   "version": "2.7.11"
  }
 },
 "nbformat": 4,
 "nbformat_minor": 0
}
