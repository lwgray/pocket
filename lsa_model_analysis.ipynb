{
 "cells": [
  {
   "cell_type": "code",
   "execution_count": null,
   "metadata": {
    "collapsed": false,
    "scrolled": false
   },
   "outputs": [],
   "source": [
    "# %load POCKET_TOPIC_MODELING.py\n",
    "import gensim\n",
    "import pyLDAvis\n",
    "import pyLDAvis.gensim\n",
    "from clean_data import load\n",
    "import numpy as np\n",
    "from wordcloud import WordCloud\n",
    "import matplotlib.pyplot as plt\n",
    "\n",
    "dictionary = gensim.corpora.Dictionary.load('larry.dict')\n",
    "corpus = gensim.corpora.MmCorpus('larry.mm')\n",
    "lsa = gensim.models.lsimodel.LsiModel.load('larry.lsa')\n",
    "\n",
    "lsa.show_topics(9)"
   ]
  },
  {
   "cell_type": "code",
   "execution_count": 11,
   "metadata": {
    "collapsed": false
   },
   "outputs": [
    {
     "name": "stdout",
     "output_type": "stream",
     "text": [
      "Topic: 0\n",
      "Topic: 1\n",
      "Topic: 2\n",
      "Topic: 3\n"
     ]
    }
   ],
   "source": [
    "wc = WordCloud()\n",
    "topics = lsa.show_topics(num_words=50,formatted=False)\n",
    "for i, top in enumerate(topics):\n",
    "    print 'Topic:', i\n",
    "    wc.generate_from_frequencies([(t[1],t[0]) for t in top])\n",
    "    img = wc.to_image()\n",
    "    img.save('{0}.png'.format(i)),,,,,,,,,,,,,,,,,,,,,,,"
   ]
  }
 ],
 "metadata": {
  "kernelspec": {
   "display_name": "Python 2",
   "language": "python",
   "name": "python2"
  },
  "language_info": {
   "codemirror_mode": {
    "name": "ipython",
    "version": 2
   },
   "file_extension": ".py",
   "mimetype": "text/x-python",
   "name": "python",
   "nbconvert_exporter": "python",
   "pygments_lexer": "ipython2",
   "version": "2.7.11"
  }
 },
 "nbformat": 4,
 "nbformat_minor": 0
}
