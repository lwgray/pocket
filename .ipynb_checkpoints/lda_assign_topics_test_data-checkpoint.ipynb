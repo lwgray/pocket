{
 "cells": [
  {
   "cell_type": "code",
   "execution_count": 17,
   "metadata": {
    "collapsed": false,
    "scrolled": false
   },
   "outputs": [
    {
     "name": "stdout",
     "output_type": "stream",
     "text": [
      "Loading Data\n",
      "Loading Data\n",
      "Linear Algebra for Data Scientists It’s important to know what goes on inside a machine learning algorithm. But it’s hard. There is some pretty intense math happening, much of which is linear algebra. When I took Andrew Ng’s course on machine learning, I found the hardest part was the linear algebra.\n"
     ]
    }
   ],
   "source": [
    "import gensim.models\n",
    "import gensim\n",
    "from clean_data import load, preprocess\n",
    "from pocket import Pocket\n",
    "import os\n",
    "\n",
    "\n",
    "CONSUMER_KEY = os.environ.get('CONSUMER_KEY')  # Provided by POCKET(see above)\n",
    "ACCESS_TOKEN = os.environ.get('ACCESS_TOKEN')  # Generate an access key for yourself\n",
    "\n",
    "USER_DATA = Pocket(CONSUMER_KEY, ACCESS_TOKEN)\n",
    "\n",
    "\n",
    "dictionary = gensim.corpora.Dictionary.load('larry.dict')\n",
    "lda = gensim.models.ldamodel.LdaModel.load('larry.lda')\n",
    "\n",
    "DATA1 = load('testing_data.p', 'excerpt')\n",
    "DATA2 = load('training_data.p', 'excerpt')\n",
    "\n",
    "DATA = DATA1[0] + DATA2[0]\n",
    "IDS = DATA1[1] + DATA2[1]\n",
    "words = preprocess(ZIPPED, 'test')\n"
   ]
  },
  {
   "cell_type": "code",
   "execution_count": 3,
   "metadata": {
    "collapsed": false
   },
   "outputs": [
    {
     "ename": "TypeError",
     "evalue": "'NoneType' object is not iterable",
     "output_type": "error",
     "traceback": [
      "\u001b[1;31m---------------------------------------------------------------------------\u001b[0m",
      "\u001b[1;31mTypeError\u001b[0m                                 Traceback (most recent call last)",
      "\u001b[1;32m<ipython-input-3-5b41f20b2bd5>\u001b[0m in \u001b[0;36m<module>\u001b[1;34m()\u001b[0m\n\u001b[1;32m----> 1\u001b[1;33m \u001b[1;32mfor\u001b[0m \u001b[0mindex\u001b[0m\u001b[1;33m,\u001b[0m \u001b[0mi\u001b[0m \u001b[1;32min\u001b[0m \u001b[0menumerate\u001b[0m\u001b[1;33m(\u001b[0m\u001b[0mwords\u001b[0m\u001b[1;33m)\u001b[0m\u001b[1;33m:\u001b[0m\u001b[1;33m\u001b[0m\u001b[0m\n\u001b[0m\u001b[0;32m      2\u001b[0m     \u001b[0mdoc_vec\u001b[0m \u001b[1;33m=\u001b[0m \u001b[0mdictionary\u001b[0m\u001b[1;33m.\u001b[0m\u001b[0mdoc2bow\u001b[0m\u001b[1;33m(\u001b[0m\u001b[0mdoc\u001b[0m\u001b[1;33m)\u001b[0m\u001b[1;33m\u001b[0m\u001b[0m\n\u001b[0;32m      3\u001b[0m     \u001b[0mlda_vec\u001b[0m \u001b[1;33m=\u001b[0m \u001b[0mlda\u001b[0m\u001b[1;33m[\u001b[0m\u001b[0mdoc_vec\u001b[0m\u001b[1;33m]\u001b[0m\u001b[1;33m\u001b[0m\u001b[0m\n\u001b[0;32m      4\u001b[0m     \u001b[1;31m# lda_vec = sorted(lda_vec, key=lambda x: x[1])\u001b[0m\u001b[1;33m\u001b[0m\u001b[1;33m\u001b[0m\u001b[0m\n\u001b[0;32m      5\u001b[0m     \u001b[1;32mprint\u001b[0m \u001b[0mIDS\u001b[0m\u001b[1;33m[\u001b[0m\u001b[0mindex\u001b[0m\u001b[1;33m]\u001b[0m\u001b[1;33m\u001b[0m\u001b[0m\n",
      "\u001b[1;31mTypeError\u001b[0m: 'NoneType' object is not iterable"
     ]
    }
   ],
   "source": [
    "for index, i in enumerate(words):\n",
    "    doc_vec = dictionary.doc2bow(doc)\n",
    "    lda_vec = lda[doc_vec]\n",
    "    # lda_vec = sorted(lda_vec, key=lambda x: x[1])\n",
    "    print IDS[index]\n",
    "    print DATA[index]\n",
    "    a = lda.print_topic(lda_vec[-1][0])\n",
    "    a = a.split('+')\n",
    "    a = [x.split('*') for x in a]\n",
    "    #a = [x for x in a]\n",
    "    tag1 = a[0][1].strip()\n",
    "    tag2 = a[1][1].strip()\n",
    "    tag3 = a[2][1].strip()\n",
    "    tag4 = a[3][1].strip()\n",
    "    print tag1, tag2, tag3, tag4\n",
    "    a = USER_DATA.tags_replace(item_id=IDS[index], tags=\"{0}, {1}, {2}, {3}\".format(tag1, tag2, tag3, tag4))\n",
    "    print a.statuses\n",
    "    print '\\n'"
   ]
  }
 ],
 "metadata": {
  "kernelspec": {
   "display_name": "Python 2",
   "language": "python",
   "name": "python2"
  },
  "language_info": {
   "codemirror_mode": {
    "name": "ipython",
    "version": 2
   },
   "file_extension": ".py",
   "mimetype": "text/x-python",
   "name": "python",
   "nbconvert_exporter": "python",
   "pygments_lexer": "ipython2",
   "version": "2.7.11"
  }
 },
 "nbformat": 4,
 "nbformat_minor": 0
}
